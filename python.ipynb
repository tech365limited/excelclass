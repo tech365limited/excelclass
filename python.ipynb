{
 "cells": [
  {
   "cell_type": "code",
   "execution_count": 79,
   "id": "9802c6ff",
   "metadata": {},
   "outputs": [
    {
     "ename": "SyntaxError",
     "evalue": "invalid syntax (2668156874.py, line 145)",
     "output_type": "error",
     "traceback": [
      "\u001b[1;36m  Cell \u001b[1;32mIn[79], line 145\u001b[1;36m\u001b[0m\n\u001b[1;33m    case 90 <= score <= 100:\u001b[0m\n\u001b[1;37m            ^\u001b[0m\n\u001b[1;31mSyntaxError\u001b[0m\u001b[1;31m:\u001b[0m invalid syntax\n"
     ]
    }
   ],
   "source": [
    "# assignment\n",
    "# =================\n",
    "\n",
    "# 1. create a program that displays a multiplication table\n",
    "# eg. 2 x 1 = 2\n",
    "#     2 x 2 = 4\n",
    "# up to 2 x 12 = 24\n",
    "\n",
    "# NB: Do not write out the table one by one. Use loop.\n",
    "\n",
    "# the number = 2\n",
    "# pick the number, add multiplication sign\n",
    "# add number that increases by one\n",
    "# add equality sign\n",
    "# multiple the number by the increase value\n",
    "\n",
    "# x = 2\n",
    "# num = 1\n",
    "# while num <= 12:\n",
    "#     print(f\"{x} x {num} = {x * num}\")\n",
    "# #     print(x, \"x\", num, \"=\", x * num)\n",
    "#     num = num + 1\n",
    "\n",
    "\n",
    "# 2. create a program that finds the largest of 3 numbers\n",
    "a = 14\n",
    "b = 50\n",
    "c = 50\n",
    "#pick first number and check if it is bigger than 2nd and 3rd number\n",
    "# if true, first number is the biggest\n",
    "# if 2nd number is greater than first and third number, second number is the largest\n",
    "# otherwise 3rd number will be the largest\n",
    "\n",
    "# if a > b and a > c:\n",
    "#     print(a, \"is the largest\")\n",
    "# elif b > a and b > c:\n",
    "#     print(b,\"is the largest\")\n",
    "# elif c > b and c > a:\n",
    "#     print(c, \"is the largest\")\n",
    "# else:\n",
    "#     print(\"No largest among the 3 numbers\")\n",
    "\n",
    "# pick first number and compare to second number\n",
    "# the one that is largest among them, compare to next number\n",
    "# if the same number is bigger, it remains the largest\n",
    "# continue to the end\n",
    "\n",
    "# data = [100,2,40,56, 20, 40, 10]\n",
    "# largest = data[0]\n",
    "# for i in data:\n",
    "#     if i > largest:\n",
    "#         largest = i\n",
    "# print(largest)   \n",
    "\n",
    "\n",
    "\n",
    "# 3.  create a program that take a score and show the grade using if else or match case:\n",
    "# 90 - 100 (\"Grade A\")\n",
    "# 70 - 89  (\"Grade B\")\n",
    "# 50 - 69 (\"Grade C\")\n",
    "# 30 - 49 (\"Grade D\")\n",
    "# 0 - 29  (\"Grade E\")\n",
    "\n",
    "# score = 99.8\n",
    "# if score >= 90 and score <= 100:\n",
    "#     print(\"Grade A\")\n",
    "# elif score >= 70:\n",
    "#     print(\"Grade B\")\n",
    "# elif score >= 50:\n",
    "#     print(\"Grade C\")\n",
    "# elif score >= 30:\n",
    "#     print(\"Grade D\")\n",
    "# elif score >= 0:\n",
    "#     print(\"Grade E\")\n",
    "# else:\n",
    "#     print(\"Invalid score\")\n",
    "\n",
    "# score = 30\n",
    "# match(score):\n",
    "#     case ((score >= 90) and (score <= 100)):\n",
    "#         print(\"Grade A\")\n",
    "#     case score >= 70:\n",
    "#         print(\"Grade B\")\n",
    "#     case score >= 50:\n",
    "#         print(\"Grade C\")\n",
    "#     case score >= 30:\n",
    "#         print(\"Grade D\")\n",
    "#     case score >= 0:\n",
    "#         print(\"Grade E\")\n",
    "#     case _:\n",
    "#         print(\"Invalid grade\")\n",
    "\n",
    "# print(score >= 90)\n",
    "\n",
    "# so if I enter any number as score it show the corresponding grade\n",
    "\n",
    "# 3. Create a program that accepts 2 numbers and an operator eg. 5 6, +\n",
    "# then perform an operation based on what the user enters eg 5 + 6\n",
    "# if the user enters 2, 8, * it should return 2 * 8\n",
    "# and show the answer in console\n",
    "\n",
    "# num1 = int(input(\"Enter first number\"))\n",
    "# operator = input(\"Enter an operator eg. +, -, /, *\")\n",
    "# num2 = int(input(\"Enter second number\"))\n",
    "# if operator == \"+\":\n",
    "#     print(num1 + num2)\n",
    "# elif operator == \"-\":\n",
    "#     print(num1 - num2)\n",
    "# elif operator == \"/\":\n",
    "#     if num1 > num2:\n",
    "#         print(num1 / num2)\n",
    "#     else:\n",
    "#         print(num2 / num1)\n",
    "# elif operator == \"*\":\n",
    "#     print(num1 * num2)\n",
    "# else:\n",
    "#     print(\"Invalid operator\")\n",
    "\n",
    "# 4. create a program that removes a duplicate from an array\n",
    "# eg. \n",
    "numbers = [2,1,3,1,4,6,1,8,2,1,3,4,1,1,1,1,1,1,1,1]\n",
    "# print(set(numbers))\n",
    "\n",
    "# basket = []\n",
    "# for i in numbers:\n",
    "#     if i not in basket:\n",
    "#         basket.append(i)\n",
    "        \n",
    "# print(basket)\n",
    "\n",
    "\n",
    "# 5. create a program that checks if a word is palindrome\n",
    "# ie. it is the same when you spell it backward\n",
    "# eg. madam, eye\n",
    "\n",
    "# word = \"wale\"\n",
    "# reversed_word = word[::-1]\n",
    "# if word == reversed_word:\n",
    "#     print(\"It is palindrome\")\n",
    "# else:\n",
    "#     print(\"not palindrome\")\n",
    "\n",
    "score = 10\n",
    "match score:\n",
    "    case 90 <= score <= 100:\n",
    "        \"Grade A\"\n",
    "    case 70 <= score < 90:\n",
    "        \"Grade B\"\n",
    "    case 50 <= score < 70:\n",
    "        \"Grade C\"\n",
    "    case 30 <= score < 50:\n",
    "        \"Grade D\"\n",
    "    case 0 <= score < 30:\n",
    "        \"Grade E\"\n",
    "    case _:\n",
    "        \"Invalid Score\""
   ]
  },
  {
   "cell_type": "code",
   "execution_count": 49,
   "id": "422a46c6",
   "metadata": {},
   "outputs": [],
   "source": [
    "# Function - is a block of code that can be reused\n",
    "\n",
    "def add_numbers():\n",
    "    return 2 + 2"
   ]
  },
  {
   "cell_type": "code",
   "execution_count": 50,
   "id": "357fca32",
   "metadata": {},
   "outputs": [
    {
     "data": {
      "text/plain": [
       "4"
      ]
     },
     "execution_count": 50,
     "metadata": {},
     "output_type": "execute_result"
    }
   ],
   "source": [
    "add_numbers()"
   ]
  },
  {
   "cell_type": "code",
   "execution_count": 51,
   "id": "68aba597",
   "metadata": {},
   "outputs": [
    {
     "data": {
      "text/plain": [
       "4"
      ]
     },
     "execution_count": 51,
     "metadata": {},
     "output_type": "execute_result"
    }
   ],
   "source": [
    "add_numbers()"
   ]
  },
  {
   "cell_type": "code",
   "execution_count": 52,
   "id": "a3a7cb60",
   "metadata": {},
   "outputs": [],
   "source": [
    "# function parameter\n",
    "def add_numbers(x,y):\n",
    "    return x + y"
   ]
  },
  {
   "cell_type": "code",
   "execution_count": 54,
   "id": "6854d7f6",
   "metadata": {},
   "outputs": [
    {
     "data": {
      "text/plain": [
       "10"
      ]
     },
     "execution_count": 54,
     "metadata": {},
     "output_type": "execute_result"
    }
   ],
   "source": [
    "add_numbers(4,6)"
   ]
  },
  {
   "cell_type": "code",
   "execution_count": 55,
   "id": "018cef6f",
   "metadata": {},
   "outputs": [
    {
     "data": {
      "text/plain": [
       "5"
      ]
     },
     "execution_count": 55,
     "metadata": {},
     "output_type": "execute_result"
    }
   ],
   "source": [
    "add_numbers(3,2)"
   ]
  },
  {
   "cell_type": "code",
   "execution_count": 56,
   "id": "d18021bc",
   "metadata": {},
   "outputs": [],
   "source": [
    "def check_palindrone(word):\n",
    "    reversed_word = word[::-1]\n",
    "    if word == reversed_word:\n",
    "        print(\"It is palindrome\")\n",
    "    else:\n",
    "        print(\"not palindrome\")"
   ]
  },
  {
   "cell_type": "code",
   "execution_count": 58,
   "id": "a5861076",
   "metadata": {},
   "outputs": [
    {
     "name": "stdout",
     "output_type": "stream",
     "text": [
      "It is palindrome\n"
     ]
    }
   ],
   "source": [
    "check_palindrone(\"malam\")"
   ]
  },
  {
   "cell_type": "code",
   "execution_count": 59,
   "id": "bfa14b89",
   "metadata": {},
   "outputs": [
    {
     "name": "stdout",
     "output_type": "stream",
     "text": [
      "not palindrome\n"
     ]
    }
   ],
   "source": [
    "check_palindrone(\"int\")"
   ]
  },
  {
   "cell_type": "code",
   "execution_count": 60,
   "id": "69f32a6a",
   "metadata": {},
   "outputs": [
    {
     "name": "stdout",
     "output_type": "stream",
     "text": [
      "It is palindrome\n"
     ]
    }
   ],
   "source": [
    "check_palindrone(\"ada\")"
   ]
  },
  {
   "cell_type": "code",
   "execution_count": null,
   "id": "5b72a736",
   "metadata": {},
   "outputs": [],
   "source": [
    "# lambda - anonymous function\n",
    "def add_numbers(x,y):\n",
    "    return x + y"
   ]
  },
  {
   "cell_type": "code",
   "execution_count": null,
   "id": "9a377d8e",
   "metadata": {},
   "outputs": [],
   "source": [
    "lambda x, y: x + y"
   ]
  },
  {
   "cell_type": "code",
   "execution_count": 65,
   "id": "b01cbfde",
   "metadata": {},
   "outputs": [
    {
     "data": {
      "text/plain": [
       "5"
      ]
     },
     "execution_count": 65,
     "metadata": {},
     "output_type": "execute_result"
    }
   ],
   "source": [
    "# module - modules is the process of importing code that are written someone and use it in your code\n",
    "\n",
    "import calculate\n",
    "calculate.add_it(2,3)"
   ]
  },
  {
   "cell_type": "code",
   "execution_count": 67,
   "id": "96c0c299",
   "metadata": {},
   "outputs": [
    {
     "data": {
      "text/plain": [
       "4"
      ]
     },
     "execution_count": 67,
     "metadata": {},
     "output_type": "execute_result"
    }
   ],
   "source": [
    "from calculate import sub_it, add_it\n",
    "sub_it(8,4)"
   ]
  },
  {
   "cell_type": "code",
   "execution_count": 69,
   "id": "723a5b0a",
   "metadata": {},
   "outputs": [
    {
     "data": {
      "text/plain": [
       "15"
      ]
     },
     "execution_count": 69,
     "metadata": {},
     "output_type": "execute_result"
    }
   ],
   "source": [
    "# writing a file\n",
    "file = open(\"newpythonclass.txt\", \"w\")\n",
    "file.write(\"This is magical\")"
   ]
  },
  {
   "cell_type": "code",
   "execution_count": 71,
   "id": "993bc505",
   "metadata": {},
   "outputs": [],
   "source": [
    "# ls"
   ]
  },
  {
   "cell_type": "code",
   "execution_count": 72,
   "id": "2154c9a9",
   "metadata": {},
   "outputs": [
    {
     "data": {
      "text/plain": [
       "'This is magical'"
      ]
     },
     "execution_count": 72,
     "metadata": {},
     "output_type": "execute_result"
    }
   ],
   "source": [
    "# Reading file\n",
    "file = open(\"newpythonclass.txt\", \"r\")\n",
    "file.read()"
   ]
  },
  {
   "cell_type": "code",
   "execution_count": 73,
   "id": "59aaba90",
   "metadata": {},
   "outputs": [
    {
     "data": {
      "text/plain": [
       "16"
      ]
     },
     "execution_count": 73,
     "metadata": {},
     "output_type": "execute_result"
    }
   ],
   "source": [
    "file = open(\"newpythonclass.txt\", \"w\")\n",
    "file.write(\"Life is not hard\")"
   ]
  },
  {
   "cell_type": "code",
   "execution_count": 74,
   "id": "35905214",
   "metadata": {},
   "outputs": [
    {
     "data": {
      "text/plain": [
       "'Life is not hard'"
      ]
     },
     "execution_count": 74,
     "metadata": {},
     "output_type": "execute_result"
    }
   ],
   "source": [
    "file = open(\"newpythonclass.txt\", \"r\")\n",
    "file.read()"
   ]
  },
  {
   "cell_type": "code",
   "execution_count": 75,
   "id": "ba8316b2",
   "metadata": {},
   "outputs": [
    {
     "data": {
      "text/plain": [
       "20"
      ]
     },
     "execution_count": 75,
     "metadata": {},
     "output_type": "execute_result"
    }
   ],
   "source": [
    "file = open(\"newpythonclass.txt\", \"a\")\n",
    "file.write(\"\\nThis is interesting\")"
   ]
  },
  {
   "cell_type": "code",
   "execution_count": 77,
   "id": "dec7253d",
   "metadata": {},
   "outputs": [
    {
     "data": {
      "text/plain": [
       "'Life is not hard\\nThis is interesting'"
      ]
     },
     "execution_count": 77,
     "metadata": {},
     "output_type": "execute_result"
    }
   ],
   "source": [
    "file = open(\"newpythonclass.txt\", \"r\")\n",
    "file.read()"
   ]
  },
  {
   "cell_type": "code",
   "execution_count": 80,
   "id": "bfda374c",
   "metadata": {},
   "outputs": [],
   "source": [
    "# Numpy is a python library for generating sample data and working with multi dimensional arrays"
   ]
  },
  {
   "cell_type": "code",
   "execution_count": 90,
   "id": "faff421f",
   "metadata": {},
   "outputs": [
    {
     "data": {
      "text/plain": [
       "[1, 2, 3, 5, 2, 3, 4, 5]"
      ]
     },
     "execution_count": 90,
     "metadata": {},
     "output_type": "execute_result"
    }
   ],
   "source": [
    "one = [1,2,3,5]\n",
    "two = [2,3,4,5]\n",
    "one + two"
   ]
  },
  {
   "cell_type": "code",
   "execution_count": 91,
   "id": "49578607",
   "metadata": {},
   "outputs": [],
   "source": [
    "# bring in numpy library into our notebook\n",
    "import numpy as np"
   ]
  },
  {
   "cell_type": "code",
   "execution_count": 92,
   "id": "ac9c89e9",
   "metadata": {},
   "outputs": [
    {
     "data": {
      "text/plain": [
       "array([ 3,  5,  7, 10])"
      ]
     },
     "execution_count": 92,
     "metadata": {},
     "output_type": "execute_result"
    }
   ],
   "source": [
    "# converting data into numpy array\n",
    "np.array(one) + np.array(two)"
   ]
  },
  {
   "cell_type": "code",
   "execution_count": 85,
   "id": "687303e1",
   "metadata": {},
   "outputs": [
    {
     "data": {
      "text/plain": [
       "array([0, 1, 2, 3, 4])"
      ]
     },
     "execution_count": 85,
     "metadata": {},
     "output_type": "execute_result"
    }
   ],
   "source": [
    "# generate sample data\n",
    "np.arange(5)"
   ]
  },
  {
   "cell_type": "code",
   "execution_count": 87,
   "id": "0ed5662d",
   "metadata": {},
   "outputs": [
    {
     "data": {
      "text/plain": [
       "array([ 2,  4,  6,  8, 10])"
      ]
     },
     "execution_count": 87,
     "metadata": {},
     "output_type": "execute_result"
    }
   ],
   "source": [
    "np.arange(2,11,2)"
   ]
  },
  {
   "cell_type": "code",
   "execution_count": 97,
   "id": "4282f42c",
   "metadata": {},
   "outputs": [],
   "source": [
    "matrix = [[1,2,3],[4,5,6],[4,4,5]]"
   ]
  },
  {
   "cell_type": "code",
   "execution_count": 100,
   "id": "1aff30c3",
   "metadata": {},
   "outputs": [
    {
     "data": {
      "text/plain": [
       "array([[1, 2, 3],\n",
       "       [4, 5, 6],\n",
       "       [4, 4, 5]])"
      ]
     },
     "execution_count": 100,
     "metadata": {},
     "output_type": "execute_result"
    }
   ],
   "source": [
    "matrix = np.array(matrix)\n",
    "matrix"
   ]
  },
  {
   "cell_type": "code",
   "execution_count": 101,
   "id": "2696757f",
   "metadata": {},
   "outputs": [
    {
     "data": {
      "text/plain": [
       "(3, 3)"
      ]
     },
     "execution_count": 101,
     "metadata": {},
     "output_type": "execute_result"
    }
   ],
   "source": [
    "# numpy array properties\n",
    "matrix.shape"
   ]
  },
  {
   "cell_type": "code",
   "execution_count": 107,
   "id": "bd43f688",
   "metadata": {},
   "outputs": [
    {
     "data": {
      "text/plain": [
       "2"
      ]
     },
     "execution_count": 107,
     "metadata": {},
     "output_type": "execute_result"
    }
   ],
   "source": [
    "matrix.ndim"
   ]
  },
  {
   "cell_type": "code",
   "execution_count": 108,
   "id": "0b827f75",
   "metadata": {},
   "outputs": [
    {
     "data": {
      "text/plain": [
       "dtype('int32')"
      ]
     },
     "execution_count": 108,
     "metadata": {},
     "output_type": "execute_result"
    }
   ],
   "source": [
    "matrix.dtype"
   ]
  },
  {
   "cell_type": "code",
   "execution_count": 109,
   "id": "5240dddf",
   "metadata": {},
   "outputs": [
    {
     "data": {
      "text/plain": [
       "9"
      ]
     },
     "execution_count": 109,
     "metadata": {},
     "output_type": "execute_result"
    }
   ],
   "source": [
    "matrix.size"
   ]
  },
  {
   "cell_type": "code",
   "execution_count": 110,
   "id": "e25e886a",
   "metadata": {},
   "outputs": [
    {
     "data": {
      "text/plain": [
       "array([ 1,  2,  3,  4,  5,  6,  7,  8,  9, 10, 11, 12, 13, 14, 15, 16, 17,\n",
       "       18, 19, 20, 21, 22, 23, 24])"
      ]
     },
     "execution_count": 110,
     "metadata": {},
     "output_type": "execute_result"
    }
   ],
   "source": [
    "x = np.arange(1,25)\n",
    "x"
   ]
  },
  {
   "cell_type": "code",
   "execution_count": 111,
   "id": "ca83f57a",
   "metadata": {},
   "outputs": [
    {
     "data": {
      "text/plain": [
       "1"
      ]
     },
     "execution_count": 111,
     "metadata": {},
     "output_type": "execute_result"
    }
   ],
   "source": [
    "x.ndim"
   ]
  },
  {
   "cell_type": "code",
   "execution_count": 116,
   "id": "6acd4228",
   "metadata": {},
   "outputs": [
    {
     "data": {
      "text/plain": [
       "array([[ 1,  2,  3,  4],\n",
       "       [ 5,  6,  7,  8],\n",
       "       [ 9, 10, 11, 12],\n",
       "       [13, 14, 15, 16],\n",
       "       [17, 18, 19, 20],\n",
       "       [21, 22, 23, 24]])"
      ]
     },
     "execution_count": 116,
     "metadata": {},
     "output_type": "execute_result"
    }
   ],
   "source": [
    "x.reshape(6,4)"
   ]
  },
  {
   "cell_type": "code",
   "execution_count": 106,
   "id": "5cddb758",
   "metadata": {},
   "outputs": [
    {
     "data": {
      "text/plain": [
       "array([[0.88870364, 0.20812748],\n",
       "       [0.77432052, 0.90713851],\n",
       "       [0.59828265, 0.86894798],\n",
       "       [0.95070547, 0.00570189]])"
      ]
     },
     "execution_count": 106,
     "metadata": {},
     "output_type": "execute_result"
    }
   ],
   "source": [
    "# generate random data\n",
    "# rand generate random number between 0 and 1\n",
    "np.random.rand(4,2)"
   ]
  },
  {
   "cell_type": "code",
   "execution_count": 119,
   "id": "ab4a174c",
   "metadata": {},
   "outputs": [
    {
     "data": {
      "text/plain": [
       "array([[-0.17842002,  0.32361558, -1.2403744 ,  0.69551644,  0.61106782],\n",
       "       [ 0.85101722, -0.64447033, -1.60127051,  0.0949665 , -0.53785159],\n",
       "       [-1.73094247,  0.97355229,  0.823115  ,  0.14291638, -0.03478239],\n",
       "       [ 2.33189389,  1.97554026,  0.59710056,  0.96705675,  1.74842683],\n",
       "       [-1.1691029 , -0.72099581, -0.73176191,  0.60170185, -1.75737386],\n",
       "       [ 0.52287205,  0.65297811, -0.05911608, -1.81015078, -0.62623475],\n",
       "       [ 0.98145391,  0.93595929, -0.01452716, -1.24615775, -0.80563686],\n",
       "       [-2.5009588 ,  1.30999154,  0.11206878,  0.68282413,  1.79086853],\n",
       "       [ 0.76094343, -0.99694205,  0.51576675, -0.9785747 , -0.25018804],\n",
       "       [ 0.11604543,  1.31542827,  0.53423288,  0.47580837, -0.80037067]])"
      ]
     },
     "execution_count": 119,
     "metadata": {},
     "output_type": "execute_result"
    }
   ],
   "source": [
    "# randn can generate floatinmg values below 0 and above 1\n",
    "np.random.randn(10,5)"
   ]
  },
  {
   "cell_type": "code",
   "execution_count": 123,
   "id": "b154317e",
   "metadata": {},
   "outputs": [
    {
     "data": {
      "text/plain": [
       "2"
      ]
     },
     "execution_count": 123,
     "metadata": {},
     "output_type": "execute_result"
    }
   ],
   "source": [
    "np.random.randint(5)"
   ]
  },
  {
   "cell_type": "code",
   "execution_count": 125,
   "id": "13e6744f",
   "metadata": {},
   "outputs": [
    {
     "data": {
      "text/plain": [
       "array([13, 10,  2])"
      ]
     },
     "execution_count": 125,
     "metadata": {},
     "output_type": "execute_result"
    }
   ],
   "source": [
    "# randint will generate random integeter between the interval specified\n",
    "# the last digit (third) means number of items to generate\n",
    "np.random.randint(2,21,3)"
   ]
  },
  {
   "cell_type": "code",
   "execution_count": 127,
   "id": "bfa208bc",
   "metadata": {},
   "outputs": [
    {
     "data": {
      "text/plain": [
       "array([ 1.        ,  1.20408163,  1.40816327,  1.6122449 ,  1.81632653,\n",
       "        2.02040816,  2.2244898 ,  2.42857143,  2.63265306,  2.83673469,\n",
       "        3.04081633,  3.24489796,  3.44897959,  3.65306122,  3.85714286,\n",
       "        4.06122449,  4.26530612,  4.46938776,  4.67346939,  4.87755102,\n",
       "        5.08163265,  5.28571429,  5.48979592,  5.69387755,  5.89795918,\n",
       "        6.10204082,  6.30612245,  6.51020408,  6.71428571,  6.91836735,\n",
       "        7.12244898,  7.32653061,  7.53061224,  7.73469388,  7.93877551,\n",
       "        8.14285714,  8.34693878,  8.55102041,  8.75510204,  8.95918367,\n",
       "        9.16326531,  9.36734694,  9.57142857,  9.7755102 ,  9.97959184,\n",
       "       10.18367347, 10.3877551 , 10.59183673, 10.79591837, 11.        ])"
      ]
     },
     "execution_count": 127,
     "metadata": {},
     "output_type": "execute_result"
    }
   ],
   "source": [
    "# used to generate evenly spaced floating numbers\n",
    "np.linspace(1,11)"
   ]
  },
  {
   "cell_type": "code",
   "execution_count": 129,
   "id": "d3d07032",
   "metadata": {},
   "outputs": [
    {
     "data": {
      "text/plain": [
       "array([1.        , 1.21052632, 1.42105263, 1.63157895, 1.84210526,\n",
       "       2.05263158, 2.26315789, 2.47368421, 2.68421053, 2.89473684,\n",
       "       3.10526316, 3.31578947, 3.52631579, 3.73684211, 3.94736842,\n",
       "       4.15789474, 4.36842105, 4.57894737, 4.78947368, 5.        ])"
      ]
     },
     "execution_count": 129,
     "metadata": {},
     "output_type": "execute_result"
    }
   ],
   "source": [
    "np.linspace(1,5,20)"
   ]
  },
  {
   "cell_type": "code",
   "execution_count": 130,
   "id": "abaa991c",
   "metadata": {},
   "outputs": [
    {
     "data": {
      "text/plain": [
       "array([7, 7, 8, 8])"
      ]
     },
     "execution_count": 130,
     "metadata": {},
     "output_type": "execute_result"
    }
   ],
   "source": [
    "# broadcasting\n",
    "\n",
    "np.array([1,2,3,4]) + np.array([6,5,5,4])"
   ]
  },
  {
   "cell_type": "code",
   "execution_count": 131,
   "id": "64964b77",
   "metadata": {},
   "outputs": [
    {
     "data": {
      "text/plain": [
       "array([ 7,  8,  9, 10])"
      ]
     },
     "execution_count": 131,
     "metadata": {},
     "output_type": "execute_result"
    }
   ],
   "source": [
    "np.array([1,2,3,4]) + np.array([6])"
   ]
  },
  {
   "cell_type": "code",
   "execution_count": 140,
   "id": "8a25e507",
   "metadata": {},
   "outputs": [],
   "source": [
    "a = np.array([[1,2,3],[4,5,6],[2,2,3]])\n",
    "b = np.array([1,2,3])"
   ]
  },
  {
   "cell_type": "code",
   "execution_count": 141,
   "id": "b0d53a0b",
   "metadata": {},
   "outputs": [
    {
     "data": {
      "text/plain": [
       "array([[1, 2, 3],\n",
       "       [4, 5, 6],\n",
       "       [2, 2, 3]])"
      ]
     },
     "execution_count": 141,
     "metadata": {},
     "output_type": "execute_result"
    }
   ],
   "source": [
    "a"
   ]
  },
  {
   "cell_type": "code",
   "execution_count": 142,
   "id": "086da535",
   "metadata": {},
   "outputs": [
    {
     "data": {
      "text/plain": [
       "array([[2, 4, 6],\n",
       "       [5, 7, 9],\n",
       "       [3, 4, 6]])"
      ]
     },
     "execution_count": 142,
     "metadata": {},
     "output_type": "execute_result"
    }
   ],
   "source": [
    "a + b"
   ]
  },
  {
   "cell_type": "code",
   "execution_count": 143,
   "id": "54b3a180",
   "metadata": {},
   "outputs": [
    {
     "data": {
      "text/plain": [
       "array([[1, 2, 3],\n",
       "       [4, 5, 6],\n",
       "       [2, 2, 3]])"
      ]
     },
     "execution_count": 143,
     "metadata": {},
     "output_type": "execute_result"
    }
   ],
   "source": [
    "# indexing and slicing of numpy\n",
    "a"
   ]
  },
  {
   "cell_type": "code",
   "execution_count": 149,
   "id": "13cff74e",
   "metadata": {},
   "outputs": [
    {
     "data": {
      "text/plain": [
       "5"
      ]
     },
     "execution_count": 149,
     "metadata": {},
     "output_type": "execute_result"
    }
   ],
   "source": [
    "a[1][1]"
   ]
  },
  {
   "cell_type": "code",
   "execution_count": 150,
   "id": "19f58590",
   "metadata": {},
   "outputs": [
    {
     "data": {
      "text/plain": [
       "3"
      ]
     },
     "execution_count": 150,
     "metadata": {},
     "output_type": "execute_result"
    }
   ],
   "source": [
    "a[2][2]"
   ]
  },
  {
   "cell_type": "code",
   "execution_count": 151,
   "id": "7e14e982",
   "metadata": {},
   "outputs": [
    {
     "data": {
      "text/plain": [
       "2"
      ]
     },
     "execution_count": 151,
     "metadata": {},
     "output_type": "execute_result"
    }
   ],
   "source": [
    "a[0][1]"
   ]
  },
  {
   "cell_type": "code",
   "execution_count": 152,
   "id": "949a59c0",
   "metadata": {},
   "outputs": [
    {
     "data": {
      "text/plain": [
       "array([[4, 5],\n",
       "       [2, 2]])"
      ]
     },
     "execution_count": 152,
     "metadata": {},
     "output_type": "execute_result"
    }
   ],
   "source": [
    "# slicing \n",
    "a[1:3,0:2]"
   ]
  },
  {
   "cell_type": "code",
   "execution_count": 153,
   "id": "8bb9c6d9",
   "metadata": {},
   "outputs": [
    {
     "data": {
      "text/plain": [
       "array([[1, 2, 3],\n",
       "       [4, 5, 6],\n",
       "       [2, 2, 3]])"
      ]
     },
     "execution_count": 153,
     "metadata": {},
     "output_type": "execute_result"
    }
   ],
   "source": [
    "a"
   ]
  },
  {
   "cell_type": "code",
   "execution_count": 158,
   "id": "ded1a0dd",
   "metadata": {},
   "outputs": [
    {
     "data": {
      "text/plain": [
       "array([[2],\n",
       "       [5],\n",
       "       [2]])"
      ]
     },
     "execution_count": 158,
     "metadata": {},
     "output_type": "execute_result"
    }
   ],
   "source": [
    "a[0:3,1:2]"
   ]
  },
  {
   "cell_type": "code",
   "execution_count": 157,
   "id": "03fc0a2c",
   "metadata": {},
   "outputs": [
    {
     "data": {
      "text/plain": [
       "array([[2, 2, 3]])"
      ]
     },
     "execution_count": 157,
     "metadata": {},
     "output_type": "execute_result"
    }
   ],
   "source": [
    "a[2:3,0:3]"
   ]
  },
  {
   "cell_type": "code",
   "execution_count": 162,
   "id": "a1033a18",
   "metadata": {},
   "outputs": [
    {
     "data": {
      "text/plain": [
       "array([ 7,  9, 12])"
      ]
     },
     "execution_count": 162,
     "metadata": {},
     "output_type": "execute_result"
    }
   ],
   "source": [
    "# suming the columns (axis 0 = column)\n",
    "a.sum(axis=0)"
   ]
  },
  {
   "cell_type": "code",
   "execution_count": 163,
   "id": "1d950afd",
   "metadata": {},
   "outputs": [
    {
     "data": {
      "text/plain": [
       "array([ 6, 15,  7])"
      ]
     },
     "execution_count": 163,
     "metadata": {},
     "output_type": "execute_result"
    }
   ],
   "source": [
    "# (axis 1 = row)\n",
    "a.sum(axis=1)"
   ]
  },
  {
   "cell_type": "code",
   "execution_count": 164,
   "id": "e24e947e",
   "metadata": {},
   "outputs": [
    {
     "data": {
      "text/plain": [
       "28"
      ]
     },
     "execution_count": 164,
     "metadata": {},
     "output_type": "execute_result"
    }
   ],
   "source": [
    "a.sum()"
   ]
  },
  {
   "cell_type": "code",
   "execution_count": 168,
   "id": "61887a27",
   "metadata": {},
   "outputs": [
    {
     "data": {
      "text/plain": [
       "12"
      ]
     },
     "execution_count": 168,
     "metadata": {},
     "output_type": "execute_result"
    }
   ],
   "source": [
    "#summing only one column\n",
    "a.sum(axis=0)[2]"
   ]
  },
  {
   "cell_type": "code",
   "execution_count": 170,
   "id": "78bcec5a",
   "metadata": {},
   "outputs": [
    {
     "data": {
      "text/plain": [
       "array([5, 6])"
      ]
     },
     "execution_count": 170,
     "metadata": {},
     "output_type": "execute_result"
    }
   ],
   "source": [
    "#filtering data\n",
    "a[a > 4]"
   ]
  },
  {
   "cell_type": "code",
   "execution_count": null,
   "id": "2c2c9c1b",
   "metadata": {},
   "outputs": [],
   "source": []
  }
 ],
 "metadata": {
  "kernelspec": {
   "display_name": "Python 3 (ipykernel)",
   "language": "python",
   "name": "python3"
  },
  "language_info": {
   "codemirror_mode": {
    "name": "ipython",
    "version": 3
   },
   "file_extension": ".py",
   "mimetype": "text/x-python",
   "name": "python",
   "nbconvert_exporter": "python",
   "pygments_lexer": "ipython3",
   "version": "3.11.5"
  }
 },
 "nbformat": 4,
 "nbformat_minor": 5
}
